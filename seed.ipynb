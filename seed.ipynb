{
 "cells": [
  {
   "cell_type": "code",
   "execution_count": 10,
   "id": "b95d78cd",
   "metadata": {},
   "outputs": [],
   "source": [
    "import pandas as pd\n",
    "import math"
   ]
  },
  {
   "cell_type": "code",
   "execution_count": 2,
   "id": "e4c2882a",
   "metadata": {},
   "outputs": [],
   "source": [
    "df=pd.read_csv('https://raw.githubusercontent.com/jbrownlee/Datasets/master/wheat-seeds.csv')"
   ]
  },
  {
   "cell_type": "code",
   "execution_count": 3,
   "id": "4d02a41f",
   "metadata": {},
   "outputs": [
    {
     "data": {
      "text/html": [
       "<div>\n",
       "<style scoped>\n",
       "    .dataframe tbody tr th:only-of-type {\n",
       "        vertical-align: middle;\n",
       "    }\n",
       "\n",
       "    .dataframe tbody tr th {\n",
       "        vertical-align: top;\n",
       "    }\n",
       "\n",
       "    .dataframe thead th {\n",
       "        text-align: right;\n",
       "    }\n",
       "</style>\n",
       "<table border=\"1\" class=\"dataframe\">\n",
       "  <thead>\n",
       "    <tr style=\"text-align: right;\">\n",
       "      <th></th>\n",
       "      <th>15.26</th>\n",
       "      <th>14.84</th>\n",
       "      <th>0.871</th>\n",
       "      <th>5.763</th>\n",
       "      <th>3.312</th>\n",
       "      <th>2.221</th>\n",
       "      <th>5.22</th>\n",
       "      <th>1</th>\n",
       "    </tr>\n",
       "  </thead>\n",
       "  <tbody>\n",
       "    <tr>\n",
       "      <th>0</th>\n",
       "      <td>14.88</td>\n",
       "      <td>14.57</td>\n",
       "      <td>0.8811</td>\n",
       "      <td>5.554</td>\n",
       "      <td>3.333</td>\n",
       "      <td>1.018</td>\n",
       "      <td>4.956</td>\n",
       "      <td>1</td>\n",
       "    </tr>\n",
       "    <tr>\n",
       "      <th>1</th>\n",
       "      <td>14.29</td>\n",
       "      <td>14.09</td>\n",
       "      <td>0.9050</td>\n",
       "      <td>5.291</td>\n",
       "      <td>3.337</td>\n",
       "      <td>2.699</td>\n",
       "      <td>4.825</td>\n",
       "      <td>1</td>\n",
       "    </tr>\n",
       "    <tr>\n",
       "      <th>2</th>\n",
       "      <td>13.84</td>\n",
       "      <td>13.94</td>\n",
       "      <td>0.8955</td>\n",
       "      <td>5.324</td>\n",
       "      <td>3.379</td>\n",
       "      <td>2.259</td>\n",
       "      <td>4.805</td>\n",
       "      <td>1</td>\n",
       "    </tr>\n",
       "    <tr>\n",
       "      <th>3</th>\n",
       "      <td>16.14</td>\n",
       "      <td>14.99</td>\n",
       "      <td>0.9034</td>\n",
       "      <td>5.658</td>\n",
       "      <td>3.562</td>\n",
       "      <td>1.355</td>\n",
       "      <td>5.175</td>\n",
       "      <td>1</td>\n",
       "    </tr>\n",
       "    <tr>\n",
       "      <th>4</th>\n",
       "      <td>14.38</td>\n",
       "      <td>14.21</td>\n",
       "      <td>0.8951</td>\n",
       "      <td>5.386</td>\n",
       "      <td>3.312</td>\n",
       "      <td>2.462</td>\n",
       "      <td>4.956</td>\n",
       "      <td>1</td>\n",
       "    </tr>\n",
       "  </tbody>\n",
       "</table>\n",
       "</div>"
      ],
      "text/plain": [
       "   15.26  14.84   0.871  5.763  3.312  2.221   5.22  1\n",
       "0  14.88  14.57  0.8811  5.554  3.333  1.018  4.956  1\n",
       "1  14.29  14.09  0.9050  5.291  3.337  2.699  4.825  1\n",
       "2  13.84  13.94  0.8955  5.324  3.379  2.259  4.805  1\n",
       "3  16.14  14.99  0.9034  5.658  3.562  1.355  5.175  1\n",
       "4  14.38  14.21  0.8951  5.386  3.312  2.462  4.956  1"
      ]
     },
     "execution_count": 3,
     "metadata": {},
     "output_type": "execute_result"
    }
   ],
   "source": [
    "df.head()"
   ]
  },
  {
   "cell_type": "code",
   "execution_count": 4,
   "id": "e06bd896",
   "metadata": {},
   "outputs": [],
   "source": [
    "from random import random\n",
    "from random import seed"
   ]
  },
  {
   "cell_type": "code",
   "execution_count": 26,
   "id": "9fde98f9",
   "metadata": {},
   "outputs": [],
   "source": [
    "def initialise_network(n_inputs,n_hidden,n_output):\n",
    "    network=list()\n",
    "    hidden_layer=[{'weights':[random() for i in range(n_inputs+1)]} for i in range(n_hidden)]\n",
    "    network.append(hidden_layer)\n",
    "    output_layer=[{'weights':[random() for i in range(n_hidden+1)]} for i in range(n_output)]\n",
    "    network.append(output_layer)\n",
    "    return network"
   ]
  },
  {
   "cell_type": "code",
   "execution_count": 69,
   "id": "87fc9ee6",
   "metadata": {},
   "outputs": [
    {
     "name": "stdout",
     "output_type": "stream",
     "text": [
      "[{'weights': [0.13436424411240122, 0.8474337369372327, 0.763774618976614]}, {'weights': [0.2550690257394217, 0.49543508709194095, 0.4494910647887381]}]\n",
      "[{'weights': [0.651592972722763, 0.7887233511355132, 0.0938595867742349]}, {'weights': [0.02834747652200631, 0.8357651039198697, 0.43276706790505337]}]\n"
     ]
    }
   ],
   "source": [
    "seed(1)\n",
    "layer=initialise_network(2,2,2)\n",
    "for layers in layer:\n",
    "    print(layers)"
   ]
  },
  {
   "cell_type": "code",
   "execution_count": 63,
   "id": "1af7bf4b",
   "metadata": {},
   "outputs": [],
   "source": [
    "def activate(weights,inputs):\n",
    "    activation=weights[-1]\n",
    "    print(\"Weights\",weights,\"\\n\")\n",
    "    print(\"Bias\",activation,\"\\n\")\n",
    "    print(\"Inputs\",inputs,\"\\n\")\n",
    "    for i in range(len(inputs)-1):\n",
    "        print(\"Index\",i)\n",
    "        print(\"Activation=\",activation,\"+\",\"weights\",weights[i],\"inputs\",inputs[i],\"\\n\")\n",
    "        activation+=weights[i]*inputs[i]\n",
    "    return activation"
   ]
  },
  {
   "cell_type": "code",
   "execution_count": 55,
   "id": "1f71be9d",
   "metadata": {},
   "outputs": [],
   "source": [
    "def transfer(activation):\n",
    "    print(\"Pre activation\",activation,\"\\n\")\n",
    "    print(\"Post activation\",1.0/(1.0+math.exp(-activation)),\"\\n\")\n",
    "    return 1.0/(1.0+math.exp(-activation))"
   ]
  },
  {
   "cell_type": "code",
   "execution_count": 68,
   "id": "56360ae7",
   "metadata": {},
   "outputs": [],
   "source": [
    "def forward_propagate(network,row):\n",
    "    inputs=row\n",
    "    for layer in network:\n",
    "        print(\"Layer\",layer,\"\\n\")\n",
    "        new_input=[]\n",
    "        for neuron in layer:\n",
    "            print(\"Neuron\",neuron,\"\\n\")\n",
    "            activation=activate(neuron['weights'],inputs)\n",
    "            neuron['output']=transfer(activation)\n",
    "            new_input.append(neuron['output'])\n",
    "        inputs=new_input\n",
    "        print(\"Next_input\",inputs,\"\\n\")\n",
    "    return inputs"
   ]
  },
  {
   "cell_type": "code",
   "execution_count": 70,
   "id": "28eca376",
   "metadata": {},
   "outputs": [
    {
     "name": "stdout",
     "output_type": "stream",
     "text": [
      "Intialised weight [[{'weights': [0.13436424411240122, 0.8474337369372327, 0.763774618976614]}, {'weights': [0.2550690257394217, 0.49543508709194095, 0.4494910647887381]}], [{'weights': [0.651592972722763, 0.7887233511355132, 0.0938595867742349]}, {'weights': [0.02834747652200631, 0.8357651039198697, 0.43276706790505337]}]] \n",
      "\n",
      "\n",
      "Layer [{'weights': [0.13436424411240122, 0.8474337369372327, 0.763774618976614]}, {'weights': [0.2550690257394217, 0.49543508709194095, 0.4494910647887381]}] \n",
      "\n",
      "Neuron {'weights': [0.13436424411240122, 0.8474337369372327, 0.763774618976614]} \n",
      "\n",
      "Weights [0.13436424411240122, 0.8474337369372327, 0.763774618976614] \n",
      "\n",
      "Bias 0.763774618976614 \n",
      "\n",
      "Inputs [1, 0, None] \n",
      "\n",
      "Index 0\n",
      "Activation= 0.763774618976614 + weights 0.13436424411240122 inputs 1 \n",
      "\n",
      "Index 1\n",
      "Activation= 0.8981388630890152 + weights 0.8474337369372327 inputs 0 \n",
      "\n",
      "Pre activation 0.8981388630890152 \n",
      "\n",
      "Post activation 0.7105668883115941 \n",
      "\n",
      "Neuron {'weights': [0.2550690257394217, 0.49543508709194095, 0.4494910647887381]} \n",
      "\n",
      "Weights [0.2550690257394217, 0.49543508709194095, 0.4494910647887381] \n",
      "\n",
      "Bias 0.4494910647887381 \n",
      "\n",
      "Inputs [1, 0, None] \n",
      "\n",
      "Index 0\n",
      "Activation= 0.4494910647887381 + weights 0.2550690257394217 inputs 1 \n",
      "\n",
      "Index 1\n",
      "Activation= 0.7045600905281598 + weights 0.49543508709194095 inputs 0 \n",
      "\n",
      "Pre activation 0.7045600905281598 \n",
      "\n",
      "Post activation 0.6691980263750579 \n",
      "\n",
      "Next_input [0.7105668883115941, 0.6691980263750579] \n",
      "\n",
      "Layer [{'weights': [0.651592972722763, 0.7887233511355132, 0.0938595867742349]}, {'weights': [0.02834747652200631, 0.8357651039198697, 0.43276706790505337]}] \n",
      "\n",
      "Neuron {'weights': [0.651592972722763, 0.7887233511355132, 0.0938595867742349]} \n",
      "\n",
      "Weights [0.651592972722763, 0.7887233511355132, 0.0938595867742349] \n",
      "\n",
      "Bias 0.0938595867742349 \n",
      "\n",
      "Inputs [0.7105668883115941, 0.6691980263750579] \n",
      "\n",
      "Index 0\n",
      "Activation= 0.0938595867742349 + weights 0.651592972722763 inputs 0.7105668883115941 \n",
      "\n",
      "Pre activation 0.55685997784755 \n",
      "\n",
      "Post activation 0.6357256889121388 \n",
      "\n",
      "Neuron {'weights': [0.02834747652200631, 0.8357651039198697, 0.43276706790505337]} \n",
      "\n",
      "Weights [0.02834747652200631, 0.8357651039198697, 0.43276706790505337] \n",
      "\n",
      "Bias 0.43276706790505337 \n",
      "\n",
      "Inputs [0.7105668883115941, 0.6691980263750579] \n",
      "\n",
      "Index 0\n",
      "Activation= 0.43276706790505337 + weights 0.02834747652200631 inputs 0.7105668883115941 \n",
      "\n",
      "Pre activation 0.4529098460887814 \n",
      "\n",
      "Post activation 0.6113308527788465 \n",
      "\n",
      "Next_input [0.6357256889121388, 0.6113308527788465] \n",
      "\n"
     ]
    }
   ],
   "source": [
    "row=[1,0,None]\n",
    "#layer=initialise_network(2,2,2)\n",
    "#layer=[[{'weights': [0.13436424411240122, 0.8474337369372327, 0.763774618976614]}, {'weights': [0.2550690257394217, 0.49543508709194095, 0.4494910647887381]}], [{'weights': [0.651592972722763, 0.7887233511355132, 0.0938595867742349]}, {'weights': [0.02834747652200631, 0.8357651039198697, 0.43276706790505337]}]]\n",
    "print(\"Intialised weight\",layer,\"\\n\\n\")\n",
    "output=forward_propagate(layer,row)"
   ]
  },
  {
   "cell_type": "code",
   "execution_count": 20,
   "id": "8c490669",
   "metadata": {},
   "outputs": [
    {
     "data": {
      "text/plain": [
       "0.24564018470548132"
      ]
     },
     "execution_count": 20,
     "metadata": {},
     "output_type": "execute_result"
    }
   ],
   "source": [
    "a=(1*0.21659939713061338)+0.029040787574867943\n",
    "#a=1.0/(1.0+math.exp(-a))\n",
    "a"
   ]
  },
  {
   "cell_type": "code",
   "execution_count": 21,
   "id": "8619d9f5",
   "metadata": {},
   "outputs": [
    {
     "data": {
      "text/plain": [
       "0.7175039076548857"
      ]
     },
     "execution_count": 21,
     "metadata": {},
     "output_type": "execute_result"
    }
   ],
   "source": [
    "b=(1*0.22169166627303505)+ 0.49581224138185065\n",
    "#b=1.0/(1.0+math.exp(-b))\n",
    "b"
   ]
  },
  {
   "cell_type": "code",
   "execution_count": 22,
   "id": "a7c33bbd",
   "metadata": {},
   "outputs": [
    {
     "data": {
      "text/plain": [
       "0.6086601234504277"
      ]
     },
     "execution_count": 22,
     "metadata": {},
     "output_type": "execute_result"
    }
   ],
   "source": [
    "c=a*0.23308445025757263+b*0.2308665415409843+ 0.2187810373376886\n",
    "c=1.0/(1.0+math.exp(-c))\n",
    "c"
   ]
  },
  {
   "cell_type": "code",
   "execution_count": 71,
   "id": "c3e09a6b",
   "metadata": {},
   "outputs": [
    {
     "name": "stdout",
     "output_type": "stream",
     "text": [
      "[0.6357256889121388, 0.6113308527788465]\n"
     ]
    }
   ],
   "source": [
    "print(output)"
   ]
  },
  {
   "cell_type": "code",
   "execution_count": 66,
   "id": "9397fd57",
   "metadata": {},
   "outputs": [
    {
     "name": "stdout",
     "output_type": "stream",
     "text": [
      "1\n",
      "0\n"
     ]
    }
   ],
   "source": [
    " for i in reversed(range(len(network))):\n",
    "        print(i)"
   ]
  },
  {
   "cell_type": "code",
   "execution_count": 67,
   "id": "df1e2fa3",
   "metadata": {},
   "outputs": [
    {
     "data": {
      "text/plain": [
       "[{'weights': [0.2550690257394217, 0.49543508709194095]},\n",
       " {'weights': [0.4494910647887381, 0.651592972722763]}]"
      ]
     },
     "execution_count": 67,
     "metadata": {},
     "output_type": "execute_result"
    }
   ],
   "source": [
    "network[1]"
   ]
  },
  {
   "cell_type": "code",
   "execution_count": 70,
   "id": "990487e1",
   "metadata": {},
   "outputs": [
    {
     "data": {
      "text/plain": [
       "2"
      ]
     },
     "execution_count": 70,
     "metadata": {},
     "output_type": "execute_result"
    }
   ],
   "source": [
    "len(network[1])"
   ]
  },
  {
   "cell_type": "code",
   "execution_count": 71,
   "id": "247b24d1",
   "metadata": {},
   "outputs": [],
   "source": [
    "def transfer_derivative(output):\n",
    "    return output*(1.0-output)"
   ]
  },
  {
   "cell_type": "code",
   "execution_count": 72,
   "id": "f1cdf6ca",
   "metadata": {},
   "outputs": [],
   "source": [
    "def backward_propagate_error(network, expected):\n",
    "\tfor i in reversed(range(len(network))):\n",
    "\t\tlayer = network[i]\n",
    "\t\terrors = list()\n",
    "\t\tif i != len(network)-1:\n",
    "\t\t\tfor j in range(len(layer)):\n",
    "\t\t\t\terror = 0.0\n",
    "\t\t\t\tfor neuron in network[i + 1]:\n",
    "\t\t\t\t\terror += (neuron['weights'][j] * neuron['delta'])\n",
    "\t\t\t\terrors.append(error)\n",
    "\t\telse:\n",
    "\t\t\tfor j in range(len(layer)):\n",
    "\t\t\t\tneuron = layer[j]\n",
    "\t\t\t\terrors.append(neuron['output'] - expected[j])\n",
    "\t\tfor j in range(len(layer)):\n",
    "\t\t\tneuron = layer[j]\n",
    "\t\t\tneuron['delta'] = errors[j] * transfer_derivative(neuron['output'])"
   ]
  },
  {
   "cell_type": "code",
   "execution_count": 73,
   "id": "c075898a",
   "metadata": {},
   "outputs": [
    {
     "name": "stdout",
     "output_type": "stream",
     "text": [
      "[{'output': 0.7105668883115941, 'weights': [0.13436424411240122, 0.8474337369372327, 0.763774618976614], 'delta': 0.0005348048046610517}]\n",
      "[{'output': 0.6213859615555266, 'weights': [0.2550690257394217, 0.49543508709194095], 'delta': 0.14619064683582808}, {'output': 0.6573693455986976, 'weights': [0.4494910647887381, 0.651592972722763], 'delta': -0.0771723774346327}]\n"
     ]
    }
   ],
   "source": [
    "network = [[{'output': 0.7105668883115941, 'weights': [0.13436424411240122, 0.8474337369372327, 0.763774618976614]}],\n",
    "\t\t[{'output': 0.6213859615555266, 'weights': [0.2550690257394217, 0.49543508709194095]}, {'output': 0.6573693455986976, 'weights': [0.4494910647887381, 0.651592972722763]}]]\n",
    "expected = [0, 1]\n",
    "backward_propagate_error(network, expected)\n",
    "for layer in network:\n",
    "\tprint(layer)"
   ]
  },
  {
   "cell_type": "code",
   "execution_count": 74,
   "id": "28bdd306",
   "metadata": {},
   "outputs": [],
   "source": [
    "def update_weights(network, row, l_rate):\n",
    "\tfor i in range(len(network)):\n",
    "\t\tinputs = row[:-1]\n",
    "\t\tif i != 0:\n",
    "\t\t\tinputs = [neuron['output'] for neuron in network[i - 1]]\n",
    "\t\tfor neuron in network[i]:\n",
    "\t\t\tfor j in range(len(inputs)):\n",
    "\t\t\t\tneuron['weights'][j] -= l_rate * neuron['delta'] * inputs[j]\n",
    "\t\t\tneuron['weights'][-1] -= l_rate * neuron['delta']"
   ]
  },
  {
   "cell_type": "code",
   "execution_count": 75,
   "id": "ff14ff1a",
   "metadata": {},
   "outputs": [],
   "source": [
    "def train_network(network, train, l_rate, n_epoch, n_outputs):\n",
    "\tfor epoch in range(n_epoch):\n",
    "\t\tsum_error = 0\n",
    "\t\tfor row in train:\n",
    "\t\t\toutputs = forward_propagate(network, row)\n",
    "\t\t\texpected = [0 for i in range(n_outputs)]\n",
    "\t\t\texpected[row[-1]] = 1\n",
    "\t\t\tsum_error += sum([(expected[i]-outputs[i])**2 for i in range(len(expected))])\n",
    "\t\t\tbackward_propagate_error(network, expected)\n",
    "\t\t\tupdate_weights(network, row, l_rate)\n",
    "\t\tprint('>epoch=%d, lrate=%.3f, error=%.3f' % (epoch, l_rate, sum_error))"
   ]
  }
 ],
 "metadata": {
  "kernelspec": {
   "display_name": "Python 3",
   "language": "python",
   "name": "python3"
  },
  "language_info": {
   "codemirror_mode": {
    "name": "ipython",
    "version": 3
   },
   "file_extension": ".py",
   "mimetype": "text/x-python",
   "name": "python",
   "nbconvert_exporter": "python",
   "pygments_lexer": "ipython3",
   "version": "3.8.8"
  }
 },
 "nbformat": 4,
 "nbformat_minor": 5
}
