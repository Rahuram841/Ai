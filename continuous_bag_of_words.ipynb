{
 "cells": [
  {
   "cell_type": "code",
   "execution_count": 1,
   "id": "03867ab2",
   "metadata": {},
   "outputs": [],
   "source": [
    "sentences = \"\"\"We are about to study the idea of a computational process.\n",
    "Computational processes are abstract beings that inhabit computers.\n",
    "As they evolve, processes manipulate other abstract things called data.\n",
    "The evolution of a process is directed by a pattern of rules\n",
    "called a program. People create programs to direct processes. In effect,\n",
    "we conjure the spirits of the computer with our spells.\"\"\""
   ]
  },
  {
   "cell_type": "code",
   "execution_count": null,
   "id": "bfb887dc",
   "metadata": {},
   "outputs": [],
   "source": []
  },
  {
   "cell_type": "code",
   "execution_count": 17,
   "id": "a3c5d92f",
   "metadata": {},
   "outputs": [],
   "source": [
    "import re\n",
    "import numpy as np"
   ]
  },
  {
   "cell_type": "code",
   "execution_count": 4,
   "id": "fa2c6fb5",
   "metadata": {},
   "outputs": [],
   "source": [
    "sentences = re.sub('[^A-Za-z0-9]+', ' ', sentences)\n",
    "\n",
    "# remove 1 letter words\n",
    "sentences = re.sub(r'(?:^| )\\w(?:$| )', ' ', sentences).strip()\n",
    "\n",
    "# lower all characters\n",
    "sentences = sentences.lower()"
   ]
  },
  {
   "cell_type": "code",
   "execution_count": 5,
   "id": "d4654828",
   "metadata": {},
   "outputs": [
    {
     "data": {
      "text/plain": [
       "'we are about to study the idea of computational process computational processes are abstract beings that inhabit computers as they evolve processes manipulate other abstract things called data the evolution of process is directed by pattern of rules called program people create programs to direct processes in effect we conjure the spirits of the computer with our spells'"
      ]
     },
     "execution_count": 5,
     "metadata": {},
     "output_type": "execute_result"
    }
   ],
   "source": [
    "sentences"
   ]
  },
  {
   "cell_type": "code",
   "execution_count": 7,
   "id": "775aa88a",
   "metadata": {},
   "outputs": [],
   "source": [
    "words = sentences.split()\n",
    "vocab = set(words)"
   ]
  },
  {
   "cell_type": "code",
   "execution_count": 8,
   "id": "6d97bb02",
   "metadata": {},
   "outputs": [
    {
     "data": {
      "text/plain": [
       "['we',\n",
       " 'are',\n",
       " 'about',\n",
       " 'to',\n",
       " 'study',\n",
       " 'the',\n",
       " 'idea',\n",
       " 'of',\n",
       " 'computational',\n",
       " 'process',\n",
       " 'computational',\n",
       " 'processes',\n",
       " 'are',\n",
       " 'abstract',\n",
       " 'beings',\n",
       " 'that',\n",
       " 'inhabit',\n",
       " 'computers',\n",
       " 'as',\n",
       " 'they',\n",
       " 'evolve',\n",
       " 'processes',\n",
       " 'manipulate',\n",
       " 'other',\n",
       " 'abstract',\n",
       " 'things',\n",
       " 'called',\n",
       " 'data',\n",
       " 'the',\n",
       " 'evolution',\n",
       " 'of',\n",
       " 'process',\n",
       " 'is',\n",
       " 'directed',\n",
       " 'by',\n",
       " 'pattern',\n",
       " 'of',\n",
       " 'rules',\n",
       " 'called',\n",
       " 'program',\n",
       " 'people',\n",
       " 'create',\n",
       " 'programs',\n",
       " 'to',\n",
       " 'direct',\n",
       " 'processes',\n",
       " 'in',\n",
       " 'effect',\n",
       " 'we',\n",
       " 'conjure',\n",
       " 'the',\n",
       " 'spirits',\n",
       " 'of',\n",
       " 'the',\n",
       " 'computer',\n",
       " 'with',\n",
       " 'our',\n",
       " 'spells']"
      ]
     },
     "execution_count": 8,
     "metadata": {},
     "output_type": "execute_result"
    }
   ],
   "source": [
    "words"
   ]
  },
  {
   "cell_type": "code",
   "execution_count": 9,
   "id": "b214c9b9",
   "metadata": {},
   "outputs": [
    {
     "data": {
      "text/plain": [
       "{'about',\n",
       " 'abstract',\n",
       " 'are',\n",
       " 'as',\n",
       " 'beings',\n",
       " 'by',\n",
       " 'called',\n",
       " 'computational',\n",
       " 'computer',\n",
       " 'computers',\n",
       " 'conjure',\n",
       " 'create',\n",
       " 'data',\n",
       " 'direct',\n",
       " 'directed',\n",
       " 'effect',\n",
       " 'evolution',\n",
       " 'evolve',\n",
       " 'idea',\n",
       " 'in',\n",
       " 'inhabit',\n",
       " 'is',\n",
       " 'manipulate',\n",
       " 'of',\n",
       " 'other',\n",
       " 'our',\n",
       " 'pattern',\n",
       " 'people',\n",
       " 'process',\n",
       " 'processes',\n",
       " 'program',\n",
       " 'programs',\n",
       " 'rules',\n",
       " 'spells',\n",
       " 'spirits',\n",
       " 'study',\n",
       " 'that',\n",
       " 'the',\n",
       " 'they',\n",
       " 'things',\n",
       " 'to',\n",
       " 'we',\n",
       " 'with'}"
      ]
     },
     "execution_count": 9,
     "metadata": {},
     "output_type": "execute_result"
    }
   ],
   "source": [
    "vocab"
   ]
  },
  {
   "cell_type": "code",
   "execution_count": 10,
   "id": "d0560803",
   "metadata": {},
   "outputs": [],
   "source": [
    "vocab_size = len(vocab)\n",
    "embed_dim = 10\n",
    "context_size = 2"
   ]
  },
  {
   "cell_type": "code",
   "execution_count": 11,
   "id": "7bb9a9d6",
   "metadata": {},
   "outputs": [
    {
     "data": {
      "text/plain": [
       "43"
      ]
     },
     "execution_count": 11,
     "metadata": {},
     "output_type": "execute_result"
    }
   ],
   "source": [
    "vocab_size"
   ]
  },
  {
   "cell_type": "code",
   "execution_count": 12,
   "id": "a2c18894",
   "metadata": {},
   "outputs": [],
   "source": [
    "word_to_ix = {word: i for i, word in enumerate(vocab)}\n",
    "ix_to_word = {i: word for i, word in enumerate(vocab)}"
   ]
  },
  {
   "cell_type": "code",
   "execution_count": 13,
   "id": "d8711254",
   "metadata": {},
   "outputs": [
    {
     "data": {
      "text/plain": [
       "{'is': 0,\n",
       " 'other': 1,\n",
       " 'with': 2,\n",
       " 'study': 3,\n",
       " 'of': 4,\n",
       " 'idea': 5,\n",
       " 'data': 6,\n",
       " 'direct': 7,\n",
       " 'abstract': 8,\n",
       " 'that': 9,\n",
       " 'spells': 10,\n",
       " 'spirits': 11,\n",
       " 'evolution': 12,\n",
       " 'to': 13,\n",
       " 'they': 14,\n",
       " 'by': 15,\n",
       " 'manipulate': 16,\n",
       " 'program': 17,\n",
       " 'called': 18,\n",
       " 'the': 19,\n",
       " 'our': 20,\n",
       " 'effect': 21,\n",
       " 'things': 22,\n",
       " 'computer': 23,\n",
       " 'beings': 24,\n",
       " 'evolve': 25,\n",
       " 'pattern': 26,\n",
       " 'processes': 27,\n",
       " 'are': 28,\n",
       " 'rules': 29,\n",
       " 'people': 30,\n",
       " 'conjure': 31,\n",
       " 'about': 32,\n",
       " 'programs': 33,\n",
       " 'process': 34,\n",
       " 'as': 35,\n",
       " 'we': 36,\n",
       " 'computational': 37,\n",
       " 'directed': 38,\n",
       " 'inhabit': 39,\n",
       " 'create': 40,\n",
       " 'in': 41,\n",
       " 'computers': 42}"
      ]
     },
     "execution_count": 13,
     "metadata": {},
     "output_type": "execute_result"
    }
   ],
   "source": [
    "word_to_ix"
   ]
  },
  {
   "cell_type": "code",
   "execution_count": 14,
   "id": "65e12813",
   "metadata": {},
   "outputs": [
    {
     "data": {
      "text/plain": [
       "{0: 'is',\n",
       " 1: 'other',\n",
       " 2: 'with',\n",
       " 3: 'study',\n",
       " 4: 'of',\n",
       " 5: 'idea',\n",
       " 6: 'data',\n",
       " 7: 'direct',\n",
       " 8: 'abstract',\n",
       " 9: 'that',\n",
       " 10: 'spells',\n",
       " 11: 'spirits',\n",
       " 12: 'evolution',\n",
       " 13: 'to',\n",
       " 14: 'they',\n",
       " 15: 'by',\n",
       " 16: 'manipulate',\n",
       " 17: 'program',\n",
       " 18: 'called',\n",
       " 19: 'the',\n",
       " 20: 'our',\n",
       " 21: 'effect',\n",
       " 22: 'things',\n",
       " 23: 'computer',\n",
       " 24: 'beings',\n",
       " 25: 'evolve',\n",
       " 26: 'pattern',\n",
       " 27: 'processes',\n",
       " 28: 'are',\n",
       " 29: 'rules',\n",
       " 30: 'people',\n",
       " 31: 'conjure',\n",
       " 32: 'about',\n",
       " 33: 'programs',\n",
       " 34: 'process',\n",
       " 35: 'as',\n",
       " 36: 'we',\n",
       " 37: 'computational',\n",
       " 38: 'directed',\n",
       " 39: 'inhabit',\n",
       " 40: 'create',\n",
       " 41: 'in',\n",
       " 42: 'computers'}"
      ]
     },
     "execution_count": 14,
     "metadata": {},
     "output_type": "execute_result"
    }
   ],
   "source": [
    "ix_to_word"
   ]
  },
  {
   "cell_type": "code",
   "execution_count": 15,
   "id": "f14341de",
   "metadata": {},
   "outputs": [
    {
     "name": "stdout",
     "output_type": "stream",
     "text": [
      "[(['we', 'are', 'to', 'study'], 'about'), (['are', 'about', 'study', 'the'], 'to'), (['about', 'to', 'the', 'idea'], 'study'), (['to', 'study', 'idea', 'of'], 'the'), (['study', 'the', 'of', 'computational'], 'idea')]\n"
     ]
    }
   ],
   "source": [
    "data = []\n",
    "for i in range(2, len(words) - 2):\n",
    "    context = [words[i - 2], words[i - 1], words[i + 1], words[i + 2]]\n",
    "    target = words[i]\n",
    "    data.append((context, target))\n",
    "print(data[:5])"
   ]
  },
  {
   "cell_type": "code",
   "execution_count": 73,
   "id": "68b9568f",
   "metadata": {},
   "outputs": [
    {
     "data": {
      "text/plain": [
       "(43, 10)"
      ]
     },
     "execution_count": 73,
     "metadata": {},
     "output_type": "execute_result"
    }
   ],
   "source": [
    "embeddings =  np.random.random_sample((vocab_size, embed_dim))\n",
    "embeddings.shape"
   ]
  },
  {
   "cell_type": "code",
   "execution_count": 20,
   "id": "fb589e36",
   "metadata": {},
   "outputs": [],
   "source": [
    "def linear(m, theta):\n",
    "    w = theta\n",
    "    return m.dot(w)"
   ]
  },
  {
   "cell_type": "code",
   "execution_count": 23,
   "id": "5d7623b9",
   "metadata": {},
   "outputs": [
    {
     "data": {
      "text/plain": [
       "2.5"
      ]
     },
     "execution_count": 23,
     "metadata": {},
     "output_type": "execute_result"
    }
   ],
   "source": [
    "np.max()"
   ]
  },
  {
   "cell_type": "code",
   "execution_count": 121,
   "id": "264267a6",
   "metadata": {},
   "outputs": [],
   "source": [
    "def NLLLoss(logs, targets):\n",
    "    print(\"Soft?\",logs[0][32])\n",
    "    print(\"targets\",targets)\n",
    "    print(\"len_targets\",len(targets))\n",
    "    out = logs[range(len(targets)), targets]\n",
    "    print(\"out\",out)\n",
    "    return -out.sum()/len(out)"
   ]
  },
  {
   "cell_type": "code",
   "execution_count": 35,
   "id": "83d92ce2",
   "metadata": {},
   "outputs": [],
   "source": [
    "def log_softmax(x):\n",
    "    #print(\"Max(x)\",np.max(x))\n",
    "    e_x = np.exp(x - np.max(x))\n",
    "    return np.log(e_x / e_x.sum())"
   ]
  },
  {
   "cell_type": "code",
   "execution_count": 34,
   "id": "71e3f3db",
   "metadata": {},
   "outputs": [],
   "source": [
    "def log_softmax_crossentropy_with_logits(logits,target):\n",
    "\n",
    "    out = np.zeros_like(logits)\n",
    "    #print(\"Output\",out)\n",
    "    out[np.arange(len(logits)),target] = 1\n",
    "    softmax = np.exp(logits) / np.exp(logits).sum(axis=-1,keepdims=True)\n",
    "    \n",
    "    return (- out + softmax) / logits.shape[0]"
   ]
  },
  {
   "cell_type": "code",
   "execution_count": 126,
   "id": "43a6f99f",
   "metadata": {},
   "outputs": [],
   "source": [
    "def forward(context_idxs, theta):\n",
    "    #print(\"Embeddings of context ids\",embeddings[context_idxs])\n",
    "    m = embeddings[context_idxs].reshape(1, -1)\n",
    "   # print(\"Feedforward\",m)\n",
    "   # print(\"Feedforward shape\",m.shape)\n",
    "    n = linear(m, theta)\n",
    "    #print(\"Linear\",n)\n",
    "    o = log_softmax(n)\n",
    "   # print(\"Output\",o.shape)\n",
    "    \n",
    "    return m, n, o"
   ]
  },
  {
   "cell_type": "code",
   "execution_count": 29,
   "id": "d1dc0004",
   "metadata": {},
   "outputs": [],
   "source": [
    "def backward(preds, theta, target_idxs):\n",
    "    m, n, o = preds\n",
    "    \n",
    "    dlog = log_softmax_crossentropy_with_logits(n, target_idxs)\n",
    "    dw = m.T.dot(dlog)\n",
    "    \n",
    "    return dw"
   ]
  },
  {
   "cell_type": "code",
   "execution_count": 106,
   "id": "df786080",
   "metadata": {
    "scrolled": true
   },
   "outputs": [],
   "source": [
    "a=[1,2,3]"
   ]
  },
  {
   "cell_type": "code",
   "execution_count": 107,
   "id": "3281fbba",
   "metadata": {},
   "outputs": [
    {
     "data": {
      "text/plain": [
       "3"
      ]
     },
     "execution_count": 107,
     "metadata": {},
     "output_type": "execute_result"
    }
   ],
   "source": [
    "a[-1]"
   ]
  },
  {
   "cell_type": "code",
   "execution_count": 88,
   "id": "8897738b",
   "metadata": {},
   "outputs": [
    {
     "data": {
      "text/plain": [
       "array([[ 0.19398642,  0.47488071, -0.19330967, ...,  0.90056799,\n",
       "         0.59291525,  0.89472014],\n",
       "       [-0.86479823, -0.98798674,  0.21539986, ..., -0.70982109,\n",
       "         0.91966191, -0.23248075],\n",
       "       [ 0.87902656, -0.7906484 ,  0.3084989 , ...,  0.14760591,\n",
       "        -0.23308727, -0.97761376],\n",
       "       ...,\n",
       "       [ 0.6608078 , -0.99179163,  0.79492688, ..., -0.42627039,\n",
       "        -0.63880795,  0.51782057],\n",
       "       [-0.69988148, -0.35806668, -0.11639432, ..., -0.52873693,\n",
       "        -0.54576869, -0.43067009],\n",
       "       [ 0.22729056, -0.39434002, -0.4226128 , ..., -0.13348044,\n",
       "         0.20108782, -0.55456833]])"
      ]
     },
     "execution_count": 88,
     "metadata": {},
     "output_type": "execute_result"
    }
   ],
   "source": [
    "theta = np.random.uniform(-1, 1, (2* context_size * embed_dim, vocab_size))\n",
    "theta"
   ]
  },
  {
   "cell_type": "code",
   "execution_count": 90,
   "id": "e9544fc6",
   "metadata": {},
   "outputs": [
    {
     "data": {
      "text/plain": [
       "(40, 43)"
      ]
     },
     "execution_count": 90,
     "metadata": {},
     "output_type": "execute_result"
    }
   ],
   "source": [
    "theta.shape"
   ]
  },
  {
   "cell_type": "code",
   "execution_count": 31,
   "id": "c98ee2c2",
   "metadata": {},
   "outputs": [],
   "source": [
    "def optimize(theta, grad, lr=0.03):\n",
    "    theta -= grad * lr\n",
    "    return theta"
   ]
  },
  {
   "cell_type": "code",
   "execution_count": 124,
   "id": "6e654019",
   "metadata": {},
   "outputs": [
    {
     "name": "stdout",
     "output_type": "stream",
     "text": [
      "Linear (1, 43)\n",
      "Soft? -2.9634560174310294\n",
      "targets [32]\n",
      "len_targets 1\n",
      "out [-2.96345602]\n",
      "loss 2.9634560174310294\n",
      "Linear (1, 43)\n",
      "Soft? -4.963509677005591\n",
      "targets [13]\n",
      "len_targets 1\n",
      "out [-2.98587773]\n",
      "loss 2.985877725419211\n",
      "Linear (1, 43)\n",
      "Soft? -3.5945281187827276\n",
      "targets [3]\n",
      "len_targets 1\n",
      "out [-2.84226983]\n",
      "loss 2.84226982919546\n",
      "Linear (1, 43)\n",
      "Soft? -3.6759763195782127\n",
      "targets [19]\n",
      "len_targets 1\n",
      "out [-1.82058734]\n",
      "loss 1.8205873366364453\n",
      "Linear (1, 43)\n",
      "Soft? -4.714172557083768\n",
      "targets [5]\n",
      "len_targets 1\n",
      "out [-3.17008978]\n",
      "loss 3.1700897805627353\n",
      "Linear (1, 43)\n",
      "Soft? -4.168596962607323\n",
      "targets [4]\n",
      "len_targets 1\n",
      "out [-1.86535196]\n",
      "loss 1.8653519616907914\n",
      "Linear (1, 43)\n",
      "Soft? -4.438583656890541\n",
      "targets [37]\n",
      "len_targets 1\n",
      "out [-2.23145146]\n",
      "loss 2.2314514552503613\n",
      "Linear (1, 43)\n",
      "Soft? -4.556822906816872\n",
      "targets [34]\n",
      "len_targets 1\n",
      "out [-2.25260214]\n",
      "loss 2.2526021366160736\n",
      "Linear (1, 43)\n",
      "Soft? -4.239736759356406\n",
      "targets [37]\n",
      "len_targets 1\n",
      "out [-2.24517368]\n",
      "loss 2.2451736809256757\n",
      "Linear (1, 43)\n",
      "Soft? -3.3806946491988206\n",
      "targets [27]\n",
      "len_targets 1\n",
      "out [-2.24347343]\n",
      "loss 2.2434734333526847\n",
      "Linear (1, 43)\n",
      "Soft? -4.037592717949821\n",
      "targets [28]\n",
      "len_targets 1\n",
      "out [-2.25577803]\n",
      "loss 2.2557780317738034\n",
      "Linear (1, 43)\n",
      "Soft? -3.941103794401902\n",
      "targets [8]\n",
      "len_targets 1\n",
      "out [-2.37202808]\n",
      "loss 2.3720280786167214\n",
      "Linear (1, 43)\n",
      "Soft? -6.114723592339326\n",
      "targets [24]\n",
      "len_targets 1\n",
      "out [-2.66226893]\n",
      "loss 2.662268931907171\n",
      "Linear (1, 43)\n",
      "Soft? -4.49581816107752\n",
      "targets [9]\n",
      "len_targets 1\n",
      "out [-4.37333194]\n",
      "loss 4.373331939451625\n",
      "Linear (1, 43)\n",
      "Soft? -5.853707616417881\n",
      "targets [39]\n",
      "len_targets 1\n",
      "out [-2.52500688]\n",
      "loss 2.525006883251946\n",
      "Linear (1, 43)\n",
      "Soft? -4.113451872585984\n",
      "targets [42]\n",
      "len_targets 1\n",
      "out [-2.83618323]\n",
      "loss 2.8361832285285042\n",
      "Linear (1, 43)\n",
      "Soft? -3.4433434290633347\n",
      "targets [35]\n",
      "len_targets 1\n",
      "out [-1.85308856]\n",
      "loss 1.8530885619142414\n",
      "Linear (1, 43)\n",
      "Soft? -3.0512516695464513\n",
      "targets [14]\n",
      "len_targets 1\n",
      "out [-2.87456722]\n",
      "loss 2.874567221003843\n",
      "Linear (1, 43)\n",
      "Soft? -3.2197583749995506\n",
      "targets [25]\n",
      "len_targets 1\n",
      "out [-2.01944888]\n",
      "loss 2.0194488840380598\n",
      "Linear (1, 43)\n",
      "Soft? -3.159359168942071\n",
      "targets [27]\n",
      "len_targets 1\n",
      "out [-2.14121676]\n",
      "loss 2.141216764280524\n",
      "Linear (1, 43)\n",
      "Soft? -4.44365082620728\n",
      "targets [16]\n",
      "len_targets 1\n",
      "out [-2.79987541]\n",
      "loss 2.7998754081133774\n",
      "Linear (1, 43)\n",
      "Soft? -5.248088291022626\n",
      "targets [1]\n",
      "len_targets 1\n",
      "out [-3.36959561]\n",
      "loss 3.369595607639177\n",
      "Linear (1, 43)\n",
      "Soft? -3.8632772962808684\n",
      "targets [8]\n",
      "len_targets 1\n",
      "out [-2.05746226]\n",
      "loss 2.0574622550067625\n",
      "Linear (1, 43)\n",
      "Soft? -5.648480719722229\n",
      "targets [22]\n",
      "len_targets 1\n",
      "out [-2.37257565]\n",
      "loss 2.372575653643512\n",
      "Linear (1, 43)\n",
      "Soft? -4.907671361015215\n",
      "targets [18]\n",
      "len_targets 1\n",
      "out [-3.94158683]\n",
      "loss 3.9415868287389757\n",
      "Linear (1, 43)\n",
      "Soft? -2.6381794554998104\n",
      "targets [6]\n",
      "len_targets 1\n",
      "out [-3.46877185]\n",
      "loss 3.468771854435821\n",
      "Linear (1, 43)\n",
      "Soft? -3.5367497525561467\n",
      "targets [19]\n",
      "len_targets 1\n",
      "out [-2.22608774]\n",
      "loss 2.226087739132321\n",
      "Linear (1, 43)\n",
      "Soft? -5.0779136190702445\n",
      "targets [12]\n",
      "len_targets 1\n",
      "out [-2.99084302]\n",
      "loss 2.990843017149298\n",
      "Linear (1, 43)\n",
      "Soft? -2.6697098986378647\n",
      "targets [4]\n",
      "len_targets 1\n",
      "out [-1.19530784]\n",
      "loss 1.195307839501477\n",
      "Linear (1, 43)\n",
      "Soft? -6.337748747174741\n",
      "targets [34]\n",
      "len_targets 1\n",
      "out [-1.66300835]\n",
      "loss 1.663008354794901\n",
      "Linear (1, 43)\n",
      "Soft? -4.641751957609611\n",
      "targets [0]\n",
      "len_targets 1\n",
      "out [-3.71065525]\n",
      "loss 3.7106552541293136\n",
      "Linear (1, 43)\n",
      "Soft? -5.7479465692167\n",
      "targets [38]\n",
      "len_targets 1\n",
      "out [-3.58860544]\n",
      "loss 3.5886054428582077\n",
      "Linear (1, 43)\n",
      "Soft? -5.210467356111497\n",
      "targets [15]\n",
      "len_targets 1\n",
      "out [-2.17017661]\n",
      "loss 2.170176607275241\n",
      "Linear (1, 43)\n",
      "Soft? -4.613592413013834\n",
      "targets [26]\n",
      "len_targets 1\n",
      "out [-4.31382684]\n",
      "loss 4.3138268427321655\n",
      "Linear (1, 43)\n",
      "Soft? -4.05165726884533\n",
      "targets [4]\n",
      "len_targets 1\n",
      "out [-1.66528651]\n",
      "loss 1.6652865136972717\n",
      "Linear (1, 43)\n",
      "Soft? -6.071009745530512\n",
      "targets [29]\n",
      "len_targets 1\n",
      "out [-3.55434955]\n",
      "loss 3.55434954790928\n",
      "Linear (1, 43)\n",
      "Soft? -5.160899038017755\n",
      "targets [18]\n",
      "len_targets 1\n",
      "out [-3.10974153]\n",
      "loss 3.1097415340108276\n",
      "Linear (1, 43)\n",
      "Soft? -4.2815954333472845\n",
      "targets [17]\n",
      "len_targets 1\n",
      "out [-2.84971228]\n",
      "loss 2.8497122784703626\n",
      "Linear (1, 43)\n",
      "Soft? -5.354714174751697\n",
      "targets [30]\n",
      "len_targets 1\n",
      "out [-3.15178671]\n",
      "loss 3.1517867067493017\n",
      "Linear (1, 43)\n",
      "Soft? -5.771516397460005\n",
      "targets [40]\n",
      "len_targets 1\n",
      "out [-2.67914228]\n",
      "loss 2.679142281298884\n",
      "Linear (1, 43)\n",
      "Soft? -4.897255188849094\n",
      "targets [33]\n",
      "len_targets 1\n",
      "out [-3.60754216]\n",
      "loss 3.607542164286428\n",
      "Linear (1, 43)\n",
      "Soft? -3.119958046682309\n",
      "targets [13]\n",
      "len_targets 1\n",
      "out [-3.38357405]\n",
      "loss 3.3835740528652827\n",
      "Linear (1, 43)\n",
      "Soft? -2.737641608531446\n",
      "targets [7]\n",
      "len_targets 1\n",
      "out [-2.43365574]\n",
      "loss 2.43365574386394\n",
      "Linear (1, 43)\n",
      "Soft? -2.8648158666263863\n",
      "targets [27]\n",
      "len_targets 1\n",
      "out [-2.36652792]\n",
      "loss 2.3665279179930043\n",
      "Linear (1, 43)\n",
      "Soft? -3.9432613779361323\n",
      "targets [41]\n",
      "len_targets 1\n",
      "out [-1.46185413]\n",
      "loss 1.4618541257654694\n",
      "Linear (1, 43)\n",
      "Soft? -5.351578176219377\n",
      "targets [21]\n",
      "len_targets 1\n",
      "out [-1.89938163]\n",
      "loss 1.8993816286570695\n",
      "Linear (1, 43)\n",
      "Soft? -5.960000411156466\n",
      "targets [36]\n",
      "len_targets 1\n",
      "out [-3.69441242]\n",
      "loss 3.6944124222784906\n",
      "Linear (1, 43)\n",
      "Soft? -3.745571872395154\n",
      "targets [31]\n",
      "len_targets 1\n",
      "out [-1.54609329]\n",
      "loss 1.5460932862909462\n",
      "Linear (1, 43)\n",
      "Soft? -3.927989376048521\n",
      "targets [19]\n",
      "len_targets 1\n",
      "out [-2.10043605]\n",
      "loss 2.100436050584168\n",
      "Linear (1, 43)\n",
      "Soft? -5.676386395671452\n",
      "targets [11]\n",
      "len_targets 1\n",
      "out [-3.96581435]\n",
      "loss 3.9658143466946254\n",
      "Linear (1, 43)\n",
      "Soft? -4.651702242300764\n",
      "targets [4]\n",
      "len_targets 1\n",
      "out [-0.99366204]\n",
      "loss 0.9936620393160219\n",
      "Linear (1, 43)\n",
      "Soft? -6.044859983254252\n",
      "targets [19]\n",
      "len_targets 1\n",
      "out [-0.97762247]\n",
      "loss 0.9776224671598632\n",
      "Linear (1, 43)\n",
      "Soft? -5.686446494996591\n",
      "targets [23]\n",
      "len_targets 1\n",
      "out [-4.85688826]\n",
      "loss 4.856888262553786\n",
      "Linear (1, 43)\n",
      "Soft? -5.047677554844471\n",
      "targets [2]\n",
      "len_targets 1\n",
      "out [-3.61704233]\n",
      "loss 3.617042327813431\n"
     ]
    }
   ],
   "source": [
    "epoch_losses = {}\n",
    "\n",
    "for epoch in range(1):\n",
    "\n",
    "    losses =  []\n",
    "\n",
    "    for context, target in data:\n",
    "        context_idxs = np.array([word_to_ix[w] for w in context])\n",
    "        #print(\"Context ID\",context_idxs)\n",
    "        preds = forward(context_idxs, theta)\n",
    "        #print(\"Softmax\",preds[-1])\n",
    "        target_idxs = np.array([word_to_ix[target]])\n",
    "        #print(\"Target_idxs\",target_idxs)\n",
    "        loss = NLLLoss(preds[-1], target_idxs)\n",
    "        print(\"loss\",loss)\n",
    "        losses.append(loss)\n",
    "\n",
    "        grad = backward(preds, theta, target_idxs)\n",
    "        theta = optimize(theta, grad, lr=0.03)\n",
    "        \n",
    "     \n",
    "    epoch_losses[epoch] = losses"
   ]
  },
  {
   "cell_type": "code",
   "execution_count": 45,
   "id": "b49f8e02",
   "metadata": {},
   "outputs": [],
   "source": [
    "def predict(words):\n",
    "    context_idxs = np.array([word_to_ix[w] for w in words])\n",
    "    preds = forward(context_idxs, theta)\n",
    "    word = ix_to_word[np.argmax(preds[-1])]\n",
    "    \n",
    "    return word"
   ]
  },
  {
   "cell_type": "code",
   "execution_count": 46,
   "id": "62c72d30",
   "metadata": {},
   "outputs": [
    {
     "data": {
      "text/plain": [
       "'about'"
      ]
     },
     "execution_count": 46,
     "metadata": {},
     "output_type": "execute_result"
    }
   ],
   "source": [
    "predict(['we', 'are', 'to', 'study'])"
   ]
  },
  {
   "cell_type": "code",
   "execution_count": 47,
   "id": "831bd4c8",
   "metadata": {},
   "outputs": [],
   "source": [
    "def accuracy():\n",
    "    wrong = 0\n",
    "\n",
    "    for context, target in data:\n",
    "        if(predict(context) != target):\n",
    "            wrong += 1\n",
    "            \n",
    "    return (1 - (wrong / len(data)))"
   ]
  },
  {
   "cell_type": "code",
   "execution_count": 48,
   "id": "7bb985a8",
   "metadata": {},
   "outputs": [
    {
     "data": {
      "text/plain": [
       "1.0"
      ]
     },
     "execution_count": 48,
     "metadata": {},
     "output_type": "execute_result"
    }
   ],
   "source": [
    "accuracy()"
   ]
  },
  {
   "cell_type": "code",
   "execution_count": 1,
   "id": "864e76c8",
   "metadata": {},
   "outputs": [
    {
     "ename": "SyntaxError",
     "evalue": "invalid syntax (<ipython-input-1-e4fb996c124e>, line 1)",
     "output_type": "error",
     "traceback": [
      "\u001b[1;36m  File \u001b[1;32m\"<ipython-input-1-e4fb996c124e>\"\u001b[1;36m, line \u001b[1;32m1\u001b[0m\n\u001b[1;33m    wget https://raw.githubusercontent.com/jbrownlee/Datasets/master/wheat-seeds.csv\u001b[0m\n\u001b[1;37m         ^\u001b[0m\n\u001b[1;31mSyntaxError\u001b[0m\u001b[1;31m:\u001b[0m invalid syntax\n"
     ]
    }
   ],
   "source": []
  }
 ],
 "metadata": {
  "kernelspec": {
   "display_name": "Python 3",
   "language": "python",
   "name": "python3"
  },
  "language_info": {
   "codemirror_mode": {
    "name": "ipython",
    "version": 3
   },
   "file_extension": ".py",
   "mimetype": "text/x-python",
   "name": "python",
   "nbconvert_exporter": "python",
   "pygments_lexer": "ipython3",
   "version": "3.8.8"
  }
 },
 "nbformat": 4,
 "nbformat_minor": 5
}
